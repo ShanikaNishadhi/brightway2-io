{
 "cells": [
  {
   "cell_type": "code",
   "execution_count": 15,
   "id": "243d7cf1",
   "metadata": {},
   "outputs": [],
   "source": [
    "import math\n",
    "import multiprocessing\n",
    "import os\n",
    "import sys\n",
    "\n",
    "import pyprind \n",
    "from bw2data.utils import recursive_str_to_unicode\n",
    "from lxml import objectify, etree\n",
    "from stats_arrays.distributions import *"
   ]
  },
  {
   "cell_type": "code",
   "execution_count": 143,
   "id": "95a05b5e",
   "metadata": {},
   "outputs": [],
   "source": [
    "fp_process = '/Users/michael.baer/Dropbox (On)/Michaels Data/ILCD-hackaton/ILCD/processes/d2fe899e-7fc0-49d3-a7cc-bbf8cad5439a_00.00.001.xml'\n",
    "fp_flows = '/Users/michael.baer/Dropbox (On)/Michaels Data/ILCD-hackaton/ILCD/flows/0a51e24a-6201-47bb-b8f2-eb52bca60c83_03.00.004.xml'"
   ]
  },
  {
   "cell_type": "code",
   "execution_count": 212,
   "id": "5d7a0620",
   "metadata": {},
   "outputs": [
    {
     "data": {
      "text/plain": [
       "'1.0'"
      ]
     },
     "execution_count": 212,
     "metadata": {},
     "output_type": "execute_result"
    }
   ],
   "source": [
    "tree = etree.parse(open(fp_flows, encoding=\"utf-8\"))\n",
    "namespaces_str = {'n':'http://lca.jrc.it/ILCD/Flow','common':'http://lca.jrc.it/ILCD/Common'}\n",
    "xpath_str = '/flowDataSet/flowInformation/dataSetInformation/name/baseName'\n",
    "xpath_str = '/flowDataSet/flowInformation/dataSetInformation/common:UUID'\n",
    "xpath_str = '/flowDataSet/flowInformation/dataSetInformation/classificationInformation/common:elementaryFlowCategorization/common:category[@level=2]'\n",
    "xpath_str = '/flowDataSet/modellingAndValidation/LCIMethod/typeOfDataSet'\n",
    "xpath_str = '/flowDataSet/flowProperties/flowProperty[@dataSetInternalID=/flowDataSet/flowInformation/quantitativeReference/referenceToReferenceFlowProperty/text()]/meanValue/text()'\n",
    "#xpath_str = '/flowDataSet/flowProperties/flowProperty[@dataSetInternalID=/flowDataSet/flowInformation/quantitativeReference/referenceToReferenceFlowProperty/text()]/referenceToFlowPropertyDataSet/@refObjectId'\n",
    "\n",
    "xpath_str = \"/\".join([s if ':' in s or '(' in s or '@' in s[:1] else \"n:\"+s if s != '' else '' for s in xpath_str.split('/')])\n",
    "r = tree.xpath(xpath_str,namespaces=namespaces_str)\n",
    "assert len(r)==1\n",
    "r[0]"
   ]
  },
  {
   "cell_type": "code",
   "execution_count": 206,
   "id": "73389db2",
   "metadata": {},
   "outputs": [
    {
     "data": {
      "text/plain": [
       "'/n:flowDataSet/n:flowProperties/flowProperty[@dataSetInternalID=/n:flowDataSet/n:flowInformation/n:quantitativeReference/n:referenceToReferenceFlowProperty/text()]/n:referenceToFlowPropertyDataSet/@refObjectId'"
      ]
     },
     "execution_count": 206,
     "metadata": {},
     "output_type": "execute_result"
    }
   ],
   "source": [
    "xpath_str"
   ]
  },
  {
   "cell_type": "code",
   "execution_count": null,
   "id": "5d1a0f31",
   "metadata": {},
   "outputs": [],
   "source": [
    "{\n",
    "    'code':['processDataSet', 'processInformation', 'dataSetInformation', 'common:UUID'],\n",
    "    'name': ['processDataSet', 'processInformation', 'dataSetInformation', 'name', 'baseName'],\n",
    "    'location': ['processDataSet', 'processInformation', 'geography', 'locationOfOperationSupplyOrProduction', 'attribute|location'],\n",
    "    'reference product': \n",
    "    'unit': \n",
    "    'exchanges': exchanges\n",
    "    [\n",
    "        {\n",
    "            'name':XPath(),\n",
    "            'location':XPath(),\n",
    "            'reference product':XPath(),\n",
    "            'unit':XPath(),\n",
    "            'input':(DATABASE_NAME,EXCHANGE_ACTIVITY_HASH)\n",
    "        }\n",
    "        ]\n",
    "}"
   ]
  },
  {
   "cell_type": "markdown",
   "id": "55900a1a",
   "metadata": {},
   "source": [
    "Extract from bw2io / ecospold2 extractor"
   ]
  },
  {
   "cell_type": "code",
   "execution_count": 33,
   "id": "1e52dedb",
   "metadata": {},
   "outputs": [],
   "source": [
    "def getattr2(obj, attr):\n",
    "    try:\n",
    "        return getattr(obj, attr)\n",
    "    except:\n",
    "        return {}\n",
    "        \n",
    "def extract_activity(cls, dirpath, filename, db_name):\n",
    "        root = objectify.parse(\n",
    "            open(os.path.join(dirpath, filename), encoding=\"utf-8\")\n",
    "        ).getroot()\n",
    "        if hasattr(root, \"activityDataset\"):\n",
    "            stem = root.activityDataset\n",
    "        else:\n",
    "            stem = root.childActivityDataset\n",
    "\n",
    "        comments = [\n",
    "            cls.condense_multiline_comment(\n",
    "                getattr2(stem.activityDescription.activity, \"generalComment\")\n",
    "            ),\n",
    "            (\n",
    "                \"Included activities start: \",\n",
    "                getattr2(\n",
    "                    stem.activityDescription.activity, \"includedActivitiesStart\"\n",
    "                ).get(\"text\"),\n",
    "            ),\n",
    "            (\n",
    "                \"Included activities end: \",\n",
    "                getattr2(\n",
    "                    stem.activityDescription.activity, \"includedActivitiesEnd\"\n",
    "                ).get(\"text\"),\n",
    "            ),\n",
    "            (\n",
    "                \"Geography: \",\n",
    "                cls.condense_multiline_comment(\n",
    "                    getattr2(stem.activityDescription.geography, \"comment\")\n",
    "                ),\n",
    "            ),\n",
    "            (\n",
    "                \"Technology: \",\n",
    "                cls.condense_multiline_comment(\n",
    "                    getattr2(stem.activityDescription.technology, \"comment\")\n",
    "                ),\n",
    "            ),\n",
    "            (\n",
    "                \"Time period: \",\n",
    "                cls.condense_multiline_comment(\n",
    "                    getattr2(stem.activityDescription.timePeriod, \"comment\")\n",
    "                ),\n",
    "            ),\n",
    "        ]\n",
    "        comment = \"\\n\".join(\n",
    "            [\n",
    "                (\" \".join(x) if isinstance(x, tuple) else x)\n",
    "                for x in comments\n",
    "                if (x[1] if isinstance(x, tuple) else x)\n",
    "            ]\n",
    "        )\n",
    "\n",
    "        classifications = [\n",
    "            (el.classificationSystem.text, el.classificationValue.text)\n",
    "            for el in stem.activityDescription.iterchildren()\n",
    "            if el.tag == u\"{http://www.EcoInvent.org/EcoSpold02}classification\"\n",
    "        ]\n",
    "\n",
    "        data = {\n",
    "            \"comment\": comment,\n",
    "            \"classifications\": classifications,\n",
    "            \"activity type\": ACTIVITY_TYPES[\n",
    "                int(stem.activityDescription.activity.get(\"specialActivityType\") or 0)\n",
    "            ],\n",
    "            \"activity\": stem.activityDescription.activity.get(\"id\"),\n",
    "            \"database\": db_name,\n",
    "            \"exchanges\": [\n",
    "                cls.extract_exchange(exc)\n",
    "                for exc in stem.flowData.iterchildren()\n",
    "                if \"parameter\" not in exc.tag\n",
    "            ],\n",
    "            \"filename\": os.path.basename(filename),\n",
    "            \"location\": stem.activityDescription.geography.shortname.text,\n",
    "            \"name\": stem.activityDescription.activity.activityName.text,\n",
    "            \"synonyms\": [\n",
    "                s.text\n",
    "                for s in getattr(stem.activityDescription.activity, \"synonym\", [])\n",
    "            ],\n",
    "            \"parameters\": dict(\n",
    "                [\n",
    "                    cls.extract_parameter(exc)\n",
    "                    for exc in stem.flowData.iterchildren()\n",
    "                    if \"parameter\" in exc.tag\n",
    "                ]\n",
    "            ),\n",
    "            \"authors\": {\n",
    "                \"data entry\": {\n",
    "                    \"name\": stem.administrativeInformation.dataEntryBy.get(\n",
    "                        \"personName\"\n",
    "                    ),\n",
    "                    \"email\": stem.administrativeInformation.dataEntryBy.get(\n",
    "                        \"personEmail\"\n",
    "                    ),\n",
    "                },\n",
    "                \"data generator\": {\n",
    "                    \"name\": stem.administrativeInformation.dataGeneratorAndPublication.get(\n",
    "                        \"personName\"\n",
    "                    ),\n",
    "                    \"email\": stem.administrativeInformation.dataGeneratorAndPublication.get(\n",
    "                        \"personEmail\"\n",
    "                    ),\n",
    "                },\n",
    "            },\n",
    "            \"type\": \"process\",\n",
    "        }\n",
    "        return data\n"
   ]
  }
 ],
 "metadata": {
  "kernelspec": {
   "display_name": "Python 3 (ipykernel)",
   "language": "python",
   "name": "python3"
  },
  "language_info": {
   "codemirror_mode": {
    "name": "ipython",
    "version": 3
   },
   "file_extension": ".py",
   "mimetype": "text/x-python",
   "name": "python",
   "nbconvert_exporter": "python",
   "pygments_lexer": "ipython3",
   "version": "3.7.10"
  },
  "vscode": {
   "interpreter": {
    "hash": "50b5ce2818ce6ed4d76156816bb05e37d6c15fbac912eaf52ad32deaee1c45cf"
   }
  }
 },
 "nbformat": 4,
 "nbformat_minor": 5
}
